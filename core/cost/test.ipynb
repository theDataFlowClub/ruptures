{
 "cells": [
  {
   "cell_type": "code",
   "execution_count": 1,
   "id": "0235ca5e",
   "metadata": {},
   "outputs": [],
   "source": [
    "import numpy as np\n",
    "from scipy.spatial.distance import pdist, squareform\n"
   ]
  },
  {
   "cell_type": "code",
   "execution_count": 2,
   "id": "36c7e193",
   "metadata": {},
   "outputs": [
    {
     "name": "stdout",
     "output_type": "stream",
     "text": [
      "K_condensed (pdist): [2. 1. 1. 1. 1. 2.]\n",
      "K_scaled (after gamma): [2. 1. 1. 1. 1. 2.]\n",
      "K_clipped: [2. 1. 1. 1. 1. 2.]\n",
      "Gram Matrix (full):\n",
      "[[1.         0.13533528 0.36787944 0.36787944]\n",
      " [0.13533528 1.         0.36787944 0.36787944]\n",
      " [0.36787944 0.36787944 1.         0.13533528]\n",
      " [0.36787944 0.36787944 0.13533528 1.        ]]\n",
      "Sub-Gram Matrix for [1:4]:\n",
      "[[1.         0.36787944 0.36787944]\n",
      " [0.36787944 1.         0.13533528]\n",
      " [0.36787944 0.13533528 1.        ]]\n",
      "Calculated Cost for [1:4]: 1.419270556280335\n"
     ]
    }
   ],
   "source": [
    "\n",
    "# Definir la señal que usas en Go\n",
    "signal_py = np.array([[0.0, 0.0], [1.0, 1.0], [0.0, 1.0], [1.0, 0.0]])\n",
    "\n",
    "# Calcular PdistSqEuclidean\n",
    "K_condensed = pdist(signal_py, metric=\"sqeuclidean\")\n",
    "print(f\"K_condensed (pdist): {K_condensed}\") # Esto debería ser [2. 1. 1. 1. 1. 2.]\n",
    "\n",
    "# Definir gamma\n",
    "gamma = 1.0\n",
    "\n",
    "# Aplicar gamma\n",
    "K_scaled = K_condensed * gamma\n",
    "print(f\"K_scaled (after gamma): {K_scaled}\")\n",
    "\n",
    "# Aplicar clipping (usando los mismos límites que en Go: 0.0, 1e2)\n",
    "K_clipped = np.clip(K_scaled, 0.0, 1e2)\n",
    "print(f\"K_clipped: {K_clipped}\") # Esto debería seguir siendo [2. 1. 1. 1. 1. 2.]\n",
    "\n",
    "# Convertir a squareform y aplicar exponencial\n",
    "gram_matrix = np.exp(squareform(-K_clipped))\n",
    "print(f\"Gram Matrix (full):\\n{gram_matrix}\")\n",
    "\n",
    "# Ahora, calcular el costo para el segmento [1:4]\n",
    "start = 1\n",
    "end = 4\n",
    "sub_gram = gram_matrix[start:end, start:end]\n",
    "print(f\"Sub-Gram Matrix for [{start}:{end}]:\\n{sub_gram}\")\n",
    "\n",
    "diag_sum = np.diagonal(sub_gram).sum()\n",
    "total_sum = sub_gram.sum()\n",
    "segment_len = end - start\n",
    "\n",
    "cost_val = diag_sum - (total_sum / segment_len)\n",
    "print(f\"Calculated Cost for [{start}:{end}]: {cost_val}\")"
   ]
  },
  {
   "cell_type": "code",
   "execution_count": 3,
   "id": "b45a7a46",
   "metadata": {},
   "outputs": [
    {
     "name": "stdout",
     "output_type": "stream",
     "text": [
      "Python diag_sum: 3.0\n",
      "Python total_sum: 4.742188331158995\n"
     ]
    }
   ],
   "source": [
    "diag_sum_py = np.diagonal(sub_gram).sum()\n",
    "total_sum_py = sub_gram.sum()\n",
    "print(f\"Python diag_sum: {diag_sum_py}\")\n",
    "print(f\"Python total_sum: {total_sum_py}\")"
   ]
  }
 ],
 "metadata": {
  "kernelspec": {
   "display_name": "Python 3",
   "language": "python",
   "name": "python3"
  },
  "language_info": {
   "codemirror_mode": {
    "name": "ipython",
    "version": 3
   },
   "file_extension": ".py",
   "mimetype": "text/x-python",
   "name": "python",
   "nbconvert_exporter": "python",
   "pygments_lexer": "ipython3",
   "version": "3.9.6"
  }
 },
 "nbformat": 4,
 "nbformat_minor": 5
}
